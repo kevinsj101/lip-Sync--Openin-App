{
  "nbformat": 4,
  "nbformat_minor": 0,
  "metadata": {
    "colab": {
      "provenance": [],
      "gpuType": "T4"
    },
    "kernelspec": {
      "name": "python3",
      "display_name": "Python 3"
    },
    "language_info": {
      "name": "python"
    },
    "accelerator": "GPU"
  },
  "cells": [
    {
      "cell_type": "code",
      "execution_count": 1,
      "metadata": {
        "colab": {
          "base_uri": "https://localhost:8080/"
        },
        "id": "D4V1FmyqXdUa",
        "outputId": "eb7f918f-3c11-4c04-a2dc-a7680dbf8593"
      },
      "outputs": [
        {
          "output_type": "stream",
          "name": "stdout",
          "text": [
            "Mounted at /content/drive\n"
          ]
        }
      ],
      "source": [
        "from google.colab import drive\n",
        "drive.mount('/content/drive')"
      ]
    },
    {
      "cell_type": "code",
      "source": [
        "%cd /content/drive/MyDrive/Openin app"
      ],
      "metadata": {
        "id": "jzb6U5xbXnsi"
      },
      "execution_count": null,
      "outputs": []
    },
    {
      "cell_type": "code",
      "source": [
        "!git clone https://github.com/Rudrabha/Wav2Lip.git"
      ],
      "metadata": {
        "id": "yiuZFwX7X7ZD"
      },
      "execution_count": null,
      "outputs": []
    },
    {
      "cell_type": "code",
      "source": [
        "!pip install -r '/content/drive/MyDrive/Openin app/Wav2Lip/requirements.txt'"
      ],
      "metadata": {
        "id": "owh-54hnX_5e"
      },
      "execution_count": null,
      "outputs": []
    },
    {
      "cell_type": "code",
      "source": [
        "!pip install librosa==0.8.1"
      ],
      "metadata": {
        "id": "TTYCYsyOYaHY"
      },
      "execution_count": null,
      "outputs": []
    },
    {
      "cell_type": "code",
      "source": [
        "checkpoint_path = '/content/drive/MyDrive/wav2lip_gan.pth'\n",
        "face_path ='/content/drive/MyDrive/Openin app/Wav2Lip/1.mp4'\n",
        "audio_path = '/content/drive/MyDrive/Openin app/output10.wav'\n",
        "\n",
        "\n",
        "\n",

        "!python inference.py \\\n",
        "  --checkpoint_path \"{checkpoint_path}\" \\\n",
        "  --face \"{face_path}\" \\\n",
        "  --audio \"{audio_path}\"\\\n"
      ],
      "metadata": {
        "id": "VMWvU6GBZAtl"
      },
      "execution_count": null,
      "outputs": []
    }
  ]
}
